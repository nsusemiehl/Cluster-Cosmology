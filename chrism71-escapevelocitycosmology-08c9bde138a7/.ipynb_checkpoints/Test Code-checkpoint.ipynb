{
 "cells": [
  {
   "cell_type": "code",
   "execution_count": 5,
   "metadata": {},
   "outputs": [
    {
     "name": "stdout",
     "output_type": "stream",
     "text": [
      "4 CPUs\n"
     ]
    }
   ],
   "source": [
    "import numpy as np\n",
    "import path as Path\n",
    "%matplotlib inline\n",
    "import matplotlib.pyplot as plt\n",
    "import matplotlib as mpl\n",
    "from astropy.cosmology import FlatwCDM\n",
    "from astropy.cosmology import FlatLambdaCDM\n",
    "from astropy.cosmology import LambdaCDM\n",
    "from astropy.cosmology import wCDM\n",
    "from astropy.cosmology import Flatw0waCDM\n",
    "import scipy\n",
    "from escape_functions_noastropy import *\n",
    "from multiprocessing import Process\n",
    "from multiprocessing import Queue\n",
    "from multiprocessing import Pool\n",
    "import emcee\n",
    "import corner\n",
    "\n",
    "from multiprocessing import cpu_count\n",
    "\n",
    "ncpu = cpu_count()\n",
    "print(\"{0} CPUs\".format(ncpu))"
   ]
  },
  {
   "cell_type": "code",
   "execution_count": 2,
   "metadata": {},
   "outputs": [],
   "source": [
    "def cosmology(cosmology):\n",
    "    case = cosmology.name\n",
    "    if case == 'Flatw0waCDM':\n",
    "        return [cosmology.Om0, cosmology.w0, cosmology.wa, cosmology.h]\n",
    "    \n",
    "    elif case == 'FlatwCDM':\n",
    "        return [cosmology.Om0, cosmology.w0, cosmology.h]\n",
    "\n",
    "    elif case == 'wCDM':\n",
    "        return [cosmology.Om0, cosmology.Ode0, cosmology.w0,cosmology.h]\n",
    "        \n",
    "    elif case == 'LambdaCDM':\n",
    "        return [cosmology.Om0, cosmology.Ode0, cosmology.h]\n",
    "\n",
    "    elif case == 'FlatLambdaCDM':\n",
    "        return [cosmology.Om0, cosmology.h]"
   ]
  },
  {
   "cell_type": "code",
   "execution_count": 3,
   "metadata": {},
   "outputs": [
    {
     "data": {
      "image/png": "[encoded data removed]",
      "text/plain": [
       "<Figure size 432x288 with 1 Axes>"
      ]
     },
     "metadata": {
      "needs_background": "light"
     },
     "output_type": "display_data"
    }
   ],
   "source": [
    "radial_bins = 10\n",
    "error_kms = 100\n",
    "cosmo = FlatLambdaCDM(H0=70, Om0=0.2,name = 'FlatLambdaCDM')\n",
    "cosmo_params = cosmology(cosmo)\n",
    "z = 0.2\n",
    "M200_orig = 5e14 * u.solMass\n",
    "M200, R200, conc, rho_s, sigma_rho_s, r_s, sigma_r_s =  nfws_errors(M200_orig, 0.8, z, cosmo_params, cosmo.name)\n",
    " \n",
    "radius_array = np.linspace(0.1,2.0,radial_bins).round(3) #specify radius array for profiles. used in v_esc(r) funcs below.\n",
    "xdata = radius_array / D_A(z, cosmo_params, cosmo.name).value\n",
    "r,ydata = v_esc_NFW_M200(xdata,z,M200.value,100,cosmo_params, cosmo.name) + np.random.normal(0,error_kms,size=radial_bins) \n",
    "ydata_err = np.zeros(len(ydata)) + error_kms\n",
    "r,truth = v_esc_NFW_M200(xdata,z,M200.value,100,cosmo_params, cosmo.name)\n",
    "\n",
    "plt.plot(r, truth, label = 'truth')\n",
    "plt.errorbar(r, ydata, yerr=ydata_err, fmt = \"ko\", label = \"data\")\n",
    "plt.legend()\n",
    "plt.xlabel(\"r\")\n",
    "plt.ylabel(\"esc vel\")\n",
    "plt.show()"
   ]
  },
  {
   "cell_type": "code",
   "execution_count": 4,
   "metadata": {},
   "outputs": [],
   "source": [
    "def lnprior(theta):\n",
    "    p_M200 = theta\n",
    "    if not(1e13 < p_M200 < 1e17 ):\n",
    "          return -np.inf\n",
    "    return 0.0\n",
    "\n",
    "def lnlike(theta, x, y, yerr): \n",
    "    p_theta_array = x\n",
    "    p_z = 0.2\n",
    "    p_M200 = theta[0]\n",
    "    p_N = 100\n",
    "    p_Omega_M = 0.2\n",
    "    p_little_h = 0.7\n",
    "    ymodel = v_esc_NFW_M200(p_theta_array,p_z,p_M200,p_N,[p_Omega_M,p_little_h],'FlatLambdaCDM')\n",
    "    inv_sigma2 = 1.0/(yerr**2)\n",
    "    return np.nan_to_num(-0.5*(np.sum((y-ymodel)**2*inv_sigma2)))\n",
    "\n",
    "def lnprob(theta, x, y, yerr):\n",
    "    lp = lnprior(theta)\n",
    "    ll = lnlike(theta, x, y, yerr)\n",
    "    if not np.isfinite(lp):\n",
    "        return -np.inf\n",
    "    if not np.isfinite(ll):\n",
    "        return -np.inf    \n",
    "    return lp + ll"
   ]
  },
  {
   "cell_type": "code",
   "execution_count": null,
   "metadata": {},
   "outputs": [],
   "source": [
    "ndim, nwalkers, nsteps = 1, 50, 1000\n",
    "p0 = np.transpose([np.random.uniform(1,10000,size=nwalkers)*1e13])\n",
    "\n",
    "pool = Pool(processes=4)     \n",
    "sampler = emcee.EnsembleSampler(nwalkers, ndim, lnprob, args=(xdata, ydata, ydata_err),pool=pool)\n",
    "sampler.run_mcmc(p0, nsteps)\n",
    "\n",
    "burn = 100\n",
    "samples = sampler.chain[:, burn:, :].reshape((-1, 1))\n",
    "print (np.shape(sampler.chain))\n",
    "fig = corner.corner(samples[:,:], labels=[\"M200\"], truths = [M200.value])\n",
    "plt.show()\n",
    "percentile_array = np.arange(33-16.5,67+16.5, 1.0)\n",
    "print (len(percentile_array))\n",
    "M200_fit =  np.percentile(sampler.chain[:,burn:,0],percentile_array)\n",
    "M200_fit_50 =  np.percentile(sampler.chain[:,burn:,0],50)\n",
    "M200_fit_33 =  np.percentile(sampler.chain[:,burn:,0],33-16.5)\n",
    "M200_fit_67 =  np.percentile(sampler.chain[:,burn:,0],67+16.5)\n",
    "print ('median(M200) = ', M200_fit_50, '+/-', M200_fit_67-M200_fit_50, M200_fit_50-M200_fit_33)\n",
    "print ('median(logM200) = ', np.log10(M200_fit_50), '+/-', np.log10(M200_fit_67)-np.log10(M200_fit_50), np.log10(M200_fit_50) -np.log10(M200_fit_33))\n",
    "sigma_M200_fit = (M200_fit_67-M200_fit_50 + M200_fit_50-M200_fit_33)/2.0\n",
    "print ('Truth: ', np.log10(M200.value))"
   ]
  }
 ],
 "metadata": {
  "kernelspec": {
   "display_name": "Python 3",
   "language": "python",
   "name": "python3"
  },
  "language_info": {
   "codemirror_mode": {
    "name": "ipython",
    "version": 3
   },
   "file_extension": ".py",
   "mimetype": "text/x-python",
   "name": "python",
   "nbconvert_exporter": "python",
   "pygments_lexer": "ipython3",
   "version": "3.7.4"
  }
 },
 "nbformat": 4,
 "nbformat_minor": 2
}
