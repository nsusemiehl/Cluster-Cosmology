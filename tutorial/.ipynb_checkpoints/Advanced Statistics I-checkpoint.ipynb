{
 "cells": [
  {
   "cell_type": "markdown",
   "metadata": {},
   "source": [
    "# Advanced Statistics: Bayes/MLE"
   ]
  },
  {
   "cell_type": "markdown",
   "metadata": {},
   "source": [
    "## Bayes Theorem"
   ]
  },
  {
   "cell_type": "markdown",
   "metadata": {},
   "source": [
    "In the mid-eighteenth century, one of the most pressing mathematical problems was how to improve your odds of winning a game of chance:\n",
    "\n",
    "<blockquote>\n",
    "<i>\"Let us then imagine a person present at the drawing of a lottery, who knows nothing of its scheme or of the proportion of Blanks to Prizes in it. Let it further be supposed, that he is obliged to infer this from the number of blanks he hears drawn compared with the number of prizes; and that it is enquired what conclusions in these circumstances he may reasonably make.</i>\n",
    "\n",
    "<br/><br/>\n",
    "\n",
    "<i>Let him first hear ten blanks drawn and one prize, and let it be enquired what chance he will have for being right if he guesses that the proportion of blanks to prizes in the lottery lies somewhere between the proportions of 9 to 1 and 11 to 1.\"</i>\n",
    "</blockquote>\n",
    "\n",
    "<p style=\"text-align:right\">An Essay towards solving a Problem in the Doctrine of Chances by Rev. T. Bayes (1763)</p>\n",
    "\n",
    "This was the problem of inverse probability, determining the distribution of an unobserved variable given data: in this case, the probability of winning a prize in a lottery. Let's first assume that the probability of winning, $p$, is a random variable uniformly distributed between 0 and 1 (this is probably the most specific statement we can make about it as we have no further information about it). The result of each draw, $X_i$, is then a variable conditional on the value of $p$, such that for a given draw, $p(X = 1) = p$ (for a prize) and $p(X = 0) = (1 - p)$ for a blank, but independent of any other draw. After $n+m$ draws, there will have been $m$ prizes and $n$ blanks which will have a probability density function given by:\n",
    "\n",
    "$$\n",
    "f(n,m) = \\frac{(n + m)!}{m!n!}p^m(1-p)^n = \\left( \\frac{n+m}{m} \\right) p^m (1-p)^n\n",
    "$$\n",
    "\n",
    "The chance that $p$ lies between two values $a$ and $b$ given the observed values of $m$ and $n$ is then:\n",
    "\n",
    "$$\n",
    "P(a < p < b \\mid m,n) = \\frac{\\int_a^b \\left( \\frac{n+m}{m} \\right) p^m (1-p)^n dp} {\\int_0^1 \\left( \\frac{n+m}{m} \\right) p^m (1-p)^n dp}\n",
    "$$\n",
    "\n",
    "where the denominator provides the normalization over all possible values of $p$ so that $P(0 < p < 1) = 1$. You might recognize the normalized integrand as the beta distribution. For $a = 1 / 11, b = 1 / 9, m = 1$ and $n = 10$, this gives a probability of about 0.077 or, as Bayes put it: <i>\"there would therefore be an odds of about 923 to 76, or nearly 12 to 1 <b>against</b> his being right\"</i>. The results of further draws can also be easily determined, hopefully giving better odds.\n",
    "\n",
    "Today we would call this an example of statistical inferencing and use Bayesian probability to solve it. The distribution of the data, $n$ and $m$, for a given value of the unobserved variable, $p$, is the likelihood function, $p(D \\mid M)$; the initial assumption of the distribution of $p$ is the prior, $p(M)$; the denominator is the marginal likelihood or evidence; and the final result is the posterior probability, $p(M \\mid D)$, all of which are related by Bayes' Theorem:\n",
    "\n",
    "$$ P(M \\mid D) = \\frac{P(D \\mid M) P(M)}{P(D)} $$\n",
    "\n"
   ]
  },
  {
   "cell_type": "markdown",
   "metadata": {},
   "source": [
    "## Choice of prior"
   ]
  },
  {
   "cell_type": "markdown",
   "metadata": {},
   "source": [
    "Often, we assume a uniform distribution or what is normally called a <i>flat prior</i> or an <i>uninformative</i> prior:\n",
    "\n",
    "$$p(\\theta) = const., \\,\\, a < \\theta < b $$\n",
    "\n",
    "This is the recommendation for a parameter which may take any value in a finite range, or from $-\\infty$ to $\\infty$. A subtlety with this choice is that it does not describe a state of complete ignorance, but the state of knowledge in which we have observed at least one success and one failure, and have prior knowledge that both states are physically possible.\n",
    "\n",
    "If the parameter is limited to positive real values then the prior should be uniform in the logarithmic range:\n",
    "\n",
    "$$p(\\theta) \\propto \\theta^{-1} => p(\\ln \\theta) = const $$\n",
    "\n",
    "\n"
   ]
  },
  {
   "cell_type": "markdown",
   "metadata": {},
   "source": [
    "### Jeffrey's rule"
   ]
  },
  {
   "cell_type": "markdown",
   "metadata": {},
   "source": [
    "The general recommendation for an uninformative prior is Jeffrey's rule which gives the prior as the square root of the determinant of the <i>Fisher information</i> for the model:\n",
    "\n",
    "$$p(\\theta) \\propto \\sqrt{\\det \\cal I(\\theta)}$$\n",
    "\n",
    "where $\\cal I(\\theta)$ is the second moment (variance) of the partial derivative with respect to $\\theta$ of the natural logarithm of the likelihood function for $\\theta$:\n",
    "\n",
    "$$\\cal I(\\theta) = \\mathrm{E} \\left[ \\left( \\frac{\\partial}{\\partial \\theta} \\log f(\\theta) \\right)^2 \\right] = -\\mathrm{E} \\left[ \\frac{\\partial^2}{\\partial \\theta^2} \\log f(\\theta)  \\right]$$\n",
    "\n",
    "For example, if you believe that your data is drawn from a Gaussian distribution with an unknown mean then the likelihood function for the mean is:\n",
    "\n",
    "$$f(x \\mid \\mu) = \\frac{e^{-(x-\\mu)^2/2\\sigma^2}}{\\sqrt{2\\pi\\sigma^2}} $$\n",
    "\n",
    "(with a fixed $\\sigma$) and the prior for the mean is:\n",
    "\n",
    "$$ p(\\mu) \\propto \\sqrt{\\mathrm{E}\\left[ \\left(\\frac{x-\\mu}{\\sigma^2}\\right)^2 \\right]} = \\sqrt{\\int_{-\\infty}^{+\\infty} f(x \\mid \\mu) \\left( \\frac{x - \\mu}{\\sigma^2} \\right)^2 dx} = \\frac{1}{\\sigma}$$\n",
    "\n",
    "This is just a constant and so the appropriate prior is the uniform distribution.\n"
   ]
  },
  {
   "cell_type": "markdown",
   "metadata": {},
   "source": [
    "### Maximum entropy"
   ]
  },
  {
   "cell_type": "markdown",
   "metadata": {},
   "source": [
    "Of course, what we really want is some measure that captures the <i>information content</i> of a distribution and then assign a prior that reflects our ignorance of the true value of a parameter by optimizing this quantity accordingly. Such a quantity is the <i>Shannon entropy</i>:\n",
    "\n",
    "$$ S(p_1,p_2,...,p_n) = \\sum_{i=1}^n p_i \\ln p_i $$\n",
    "\n",
    "which behaves like thermodynamic entropy such that increasing entropy means less information. The <i>maximum entropy</i> prior is then the probability distribution, $p(x)$, that maximizes:\n",
    "\n",
    "$$ S = - \\int dx \\,\\, p(x) \\ln p(x) $$\n",
    "\n",
    "For example, let's suppose that we know that the variance, $\\sigma^2$, is finite but nothing else. A finite mean must exist yet we don't know what it is but we can find the maximum entropy prior for an arbitrary mean, $\\mu$. Let's define a (Lagrangian) function:\n",
    "\n",
    "$$ L =  -\\int_{-\\infty}^{\\infty} p(x) \\ln p(x) dx + \\lambda_0 \\left(\\int_{-\\infty}^{\\infty} p(x) dx - 1 \\right) + \\lambda_1 \\left( \\int_{-\\infty}^\\infty (x - \\mu)^2 p(x) dx - \\sigma^2 \\right) $$\n",
    "\n",
    "where $\\lambda_0$ is the Lagrange multiplier for the probability normalization constraint $\\int_{-\\infty}^{\\infty} p(x) dx = 1$ and $\\lambda_1$ is the constraint for the finite variance $\\sigma^2 = \\int_{-\\infty}^\\infty (x - \\mu)^2 p(x) dx$. The necessary condition for an extremum to exist is that $\\delta L = 0$:\n",
    "\n",
    "$$ -\\ln p(x) - 1 + \\lambda_0 + \\lambda_1 (x - \\mu)^2 = 0 $$\n",
    "\n",
    "and so:\n",
    "\n",
    "$$ p(x) = \\exp(\\lambda_0 - 1 + \\lambda_1 (x - \\mu)^2) $$\n",
    "\n",
    "Using the constraint equations to solve for $\\lambda_0$ and $\\lambda_1$ then gives:\n",
    "\n",
    "$$ p(x) = \\frac{1}{\\sqrt{2\\pi\\sigma^2}} \\exp \\left( - \\frac{(x - \\mu)^2}{2 \\sigma^2} \\right) $$\n",
    "\n",
    "So among all real-valued distributions with a specified variance, $\\sigma^2$, the Gaussian distribution has the maximum entropy."
   ]
  },
  {
   "cell_type": "markdown",
   "metadata": {},
   "source": [
    "## Bayes factor"
   ]
  },
  {
   "cell_type": "markdown",
   "metadata": {},
   "source": [
    "Hypothesis testing is a core application of statistical methodology in science. The standard approach is to compute some test statistic from a data set and then determine the probability (p-value) under the <i>null hypothesis</i> of sampling a value at least as extreme as the observed one. If the p-value is less than some preselected threshold level then the null hypothesis is rejected. In the Bayesian approach, the relative likelihoods of the data under each hypothesis are evaluated and their ratio (called the <i>Bayes factor</i>) determines which hypothesis is more strongly supported by the data:\n",
    "\n",
    "$$ \\mathrm{Bayes \\,\\, factor} = \\frac{p(D \\mid M_1)}{p(D \\mid M_2)} = \\frac{\\int p(D \\mid \\theta_1, M_1) \\, p(\\theta_1 \\mid M_1) \\, d\\theta_1}{\\int p(D \\mid \\theta_2, M_2) \\, p(\\theta_2 \\mid M_2) \\, d\\theta_2}$$\n",
    "\n",
    "where $\\theta_k$ is a parameter associated with $M_k$, $p(\\theta_k \\mid M_k)$ is its prior and $p(D \\mid \\theta_k, M_k)$ is the likelihood function of $\\theta$, or, in other words, the posterior odds = Bayes factor $\\times$ prior odds. The Bayes factor, $K$, is then a summary of the evidence provided by data in favor of one scientific theory in contrast to another with interprative values:\n",
    "\n",
    "<table>\n",
    "<tr><th>$2 \\ln K$</th><th>K</th><th>Strength of evidence</th></tr>\n",
    "<tr><td>0 - 2</td><td>1 - 3</td><td>Not worth more than a bare mention</td></tr>\n",
    "<tr><td>2 - 6</td><td>3 - 20</td><td>Positive</td></tr>\n",
    "<tr><td>6 - 10</td><td>20 - 150</td><td>Strong</td></tr>\n",
    "<tr><td>&gt; 10</td><td>&gt; 150</td><td>Very strong</td></tr>\n",
    "</table>\n",
    "\n",
    "For example, a study of whether test subjects could use psychokinesis to influence the random output of electronic random event generators reported 52263471 successes out of 104490000 Bernouilli trials, which is a ratio of 0.5001768. Assuming a null hypothesis that the ratio should be 0.5 in the absence of any effect, we get a p-value of 0.0003 ($3.614 \\sigma$) from which we conclude that ESP is real. Alternatively, we can evaluate the Bayes factor with $\\theta_1 = 0.5$ for model 1 (null hypothesis) and an unknown $\\theta_2$ for model 2 using the Jeffrey's prior for a Bernouilli distribution, $f(\\theta) = 1/\\sqrt{(\\theta (1 - \\theta))}$:\n",
    "\n",
    "$$ K = \\frac{p(D \\mid \\theta_1 = 0.5)}{\\int_0^1 p(D \\mid \\theta_2)f(\\theta_2) d\\theta_2} = \\frac{\\pi \\cdot 0.5^N}{B(S + 0.5, N - S + 0.5)} = e^{2.93} = 18.7$$\n",
    "\n",
    "so there is positive evidence against ESP. For a uniform prior, $K \\sim 15.4$. \n",
    "\n",
    "<figure>\n",
    "<img src=\"http://imgs.xkcd.com/comics/frequentists_vs_bayesians.png\"/>\n",
    "<figcaption style=\"text-align:center\"><b> </b></figcaption>\n",
    "</figure>\n"
   ]
  },
  {
   "cell_type": "markdown",
   "metadata": {},
   "source": [
    "## Maximum Likelihood Estimation (MLE)"
   ]
  },
  {
   "cell_type": "markdown",
   "metadata": {},
   "source": [
    "The likelihood of a data set given a particular model is the joint probability of each individual data point given the model:\n",
    "\n",
    "$$ L \\equiv p(\\{x_i\\} \\mid M(\\theta)) = \\prod_{i = 1}^n p(x_i \\mid M(\\theta)) $$\n",
    "\n",
    "although it is often useful to deal instead with the log-likelihood:\n",
    "\n",
    "$$ L = \\prod_{i = 1}^n \\ln (p(x_i \\mid M(\\theta))) $$\n",
    "\n",
    "Now if we are interested in determining the best-fit form of a model to a data set, i.e. the best-fit values of a model's parameters, $\\theta_i$, to a particular $\\{x_i\\}$, then the likelihood will obviously be maximized for these values. Thus solving for the $\\theta_i, i = 1,...,n$, that maximize the likelihood is one way to determine the optimal fit:\n",
    "\n",
    "$$  \\frac{\\partial L}{\\partial \\theta_i}(x_i, \\hat{\\theta}_i) = 0 $$ \n",
    "\n",
    "For example, suppose we want to fit a data set with a power law (Pareto) model of the form, $f = a x_m^{\\alpha} / x^{\\alpha + 1}$ for $x \\ge x_m$. The likelihood is:\n",
    "\n",
    "$$ L = \\prod_{i = 1}^n  \\alpha x_m^{\\alpha} / x^{\\alpha + 1} $$\n",
    "\n",
    "which gives a log-likelihood of:\n",
    "\n",
    "$$ \\ln L = n \\ln \\alpha + n \\alpha \\ln x_m - (\\alpha + 1) \\sum_{i=1}^{n} \\ln x_i $$\n",
    "\n",
    "Finding the extremum gives:\n",
    "\n",
    "$$ \\frac{\\partial \\ln L}{\\partial \\alpha} = \\frac{n}{\\alpha} + n \\ln x_m - \\sum_{i=1}^n \\ln x_i = 0 $$\n",
    "\n",
    "and so:\n",
    "\n",
    "$$ \\hat{\\alpha} = \\frac{1}{\\sum_{i=1}^n \\ln x_i / n - \\ln x_m} $$\n",
    "\n",
    "As the sample size increases, the distribution of the MLE tends to the Gaussian distribution with mean $\\theta$ and covariance matrix equal to the inverse of the Fisher information matrix, $\\cal{I}(\\theta)$. Recall from earlier that the Fisher information matrix is given by:\n",
    "\n",
    "$$ \\cal{I}(\\theta) = -\\mathrm{E} \\left[ \\frac{\\partial^2}{\\partial \\theta^2} \\log f(\\theta)  \\right]$$\n",
    "\n",
    "so in the case of the Pareto model, this is:\n",
    "\n",
    "$$ \\cal{I}(\\alpha) = \\frac{n}{\\alpha^2} $$\n",
    "\n",
    "The (asymptotic) error on the best-fit parameter, $\\hat{\\alpha}$, is thus given by a Gaussian with mean $\\hat{\\alpha}$ and variance $\\alpha^2 / n$.\n"
   ]
  },
  {
   "cell_type": "markdown",
   "metadata": {},
   "source": [
    "## Maximum a posteriori (MAP) estimation"
   ]
  },
  {
   "cell_type": "markdown",
   "metadata": {},
   "source": [
    "The MLE can be regarded as the most probable Bayesian estimator assuming a flat prior. However, if we have more (some) information about the parameters we are trying to fit then a better estimate can be obtained which incorporates this information via the maximum a postriori estimate. Formally this is defined as the <b>mode</b> of the posterior distribution of the parameter which is just the product of the likelihood and the prior:\n",
    "\n",
    "$$ \\hat{\\theta}_{MAP} = \\arg \\max_{\\theta} L(\\{x_i\\} \\mid \\theta) p(\\theta) $$\n",
    "\n",
    "For example, suppose that we want to fit a Gaussian model to a data set and we also believe that the mean, $\\mu$, is drawn from a different Gaussian distribution with mean $\\mu_0$ and variance $\\sigma_m^2$. The posterior to be maximized is then:\n",
    "\n",
    "$$ L(\\{x_i\\} \\mid \\mu)p(\\mu) = \\frac{1}{\\sqrt{2 \\pi} \\sigma_m} \\exp \\left( -\\frac{1}{2} \\left( \\frac{\\mu - \\mu_0}{\\sigma_m^2} \\right)^2 \\right) \\prod_{j=1}^{n} \\frac{1}{\\sqrt{2 \\pi} \\sigma} \\exp \\left( -\\frac{1}{2} \\left( \\frac{x_j - \\mu}{\\sigma^2} \\right)^2 \\right) $$\n",
    "\n",
    "From this, the MAP estimator for $\\mu$ is:\n",
    "\n",
    "$$ \\hat{\\mu}_{MAP} = \\frac{n\\sigma_m^2}{n\\sigma_m^2+\\sigma^2}\\left(\\frac{1}{n}\\sum_{j=1}^n x_j \\right) + \\frac{\\sigma^2}{n\\sigma_m^2 + \\sigma^2}\\mu_0 $$\n",
    "\n",
    "which is a linear interpolation between the prior mean and the sample mean weighted by their respective covariances."
   ]
  },
  {
   "cell_type": "markdown",
   "metadata": {},
   "source": [
    "## Naïve Bayes classifier"
   ]
  },
  {
   "cell_type": "markdown",
   "metadata": {},
   "source": [
    "Now consider the case when the parameter we are trying to fit to a set of features, $\\{x_i, i = 1,\\ldots,n\\}$, is a (discrete) class label, $y$:\n",
    "\n",
    "$$ p(y \\mid \\{x_i\\}) = \\frac{p(\\{x_i\\} \\mid y) p (y)}{p(\\{x_i\\})} $$ \n",
    "\n",
    "Under the naïve assumption that all the features are conditionally independent, i.e., $p(x_i \\mid y, x_1,\\ldots,x_{i-1},x_{i+1},\\ldots,x_n) = p(x_i \\mid y)$, this becomes:\n",
    "\n",
    "$$ p(y \\mid \\{x_i\\}) \\propto p (y) \\prod_{i=1}^n p(x_i \\mid y) $$ \n",
    "\n",
    "for which we can get a best class estimate via MAP:\n",
    "\n",
    "$$ \\hat{y} = \\arg \\max_{y_k} p(y) \\prod_{i=1}^n p(x_i \\mid y) $$\n",
    "\n",
    "The class prior can be estimated from the relative frequencies of different class values in the training set or by assuming equiprobable classes. Similarly, an assumption needs to be made about the distribution of the features relative to the class value. When categorical (discrete) features are used, the relative frequencies of each feature value for a given class value suffices. In the case when $p(x_i) = 0$ for some value of $y$, i.e., a given class and feature value never occur together in the training set, a offset (pseudocount) value $\\alpha$ is added to the probability of each bin (known as Laplace smoothing) to ensure that the posterior probability does not blow up ($p(y \\mid x) = 0 / 0$).\n",
    "\n",
    "With continuous feature values, we make an assumption about their distribution associated with each class. For example,\n",
    "\n",
    "$$ p(x_i \\mid y) = \\frac{1}{\\sqrt{2 \\pi} \\sigma_y} \\exp \\left( - \\frac{(x_i - \\mu_y)^2}{2 \\sigma_y^2} \\right) $$\n",
    "\n",
    "where each class has a different mean and variance (and can be estimated via MLE). In this case, we then get the best class estimates for data as:\n",
    "\n",
    "$$ \\hat{y} = \\arg \\max_{y_k} \\left[ \\ln p(y_k) - \\frac{1}{2} \\sum_{i=1}^N \\left( 2\\pi\\sigma_y^2 + \\frac{(x_i - \\mu_y)^2}{\\sigma_y^2} \\right) \\right] $$ \n",
    "\n",
    "\n"
   ]
  },
  {
   "cell_type": "markdown",
   "metadata": {},
   "source": [
    "Fortunately, there are already implementations of this:"
   ]
  },
  {
   "cell_type": "code",
   "execution_count": 4,
   "metadata": {},
   "outputs": [
    {
     "data": {
      "image/png": "[encoded data removed]",
      "text/plain": [
       "<matplotlib.figure.Figure at 0x101fbe150>"
      ]
     },
     "metadata": {},
     "output_type": "display_data"
    }
   ],
   "source": [
    "%matplotlib inline\n",
    "import numpy as np\n",
    "from sklearn.naive_bayes import GaussianNB\n",
    "import matplotlib.pyplot as plt\n",
    "\n",
    "# Generate some random data\n",
    "np.random.seed(0)\n",
    "mu1 = [1, 1]\n",
    "cov1 = 0.3 * np.eye(2)\n",
    "mu2 = [5, 3]\n",
    "cov2 = np.eye(2) * np.array([0.4, 0.1])\n",
    "X = np.concatenate([np.random.multivariate_normal(mu1, cov1, 100), np.random.multivariate_normal(mu2, cov2, 100)])\n",
    "y = np.zeros(200)\n",
    "y[100:] = 1\n",
    "\n",
    "# Fit Gaussian Naive Bayes\n",
    "clf = GaussianNB()\n",
    "clf.fit(X, y)\n",
    "\n",
    "# Predict on a grid\n",
    "xx, yy = np.meshgrid(np.linspace(-1, 8, 71), np.linspace(-1, 5, 81))\n",
    "Z = clf.predict_proba(np.c_[xx.ravel(), yy.ravel()])\n",
    "Z = Z[:, 1].reshape(xx.shape)\n",
    "\n",
    "# Plot the results\n",
    "fig = plt.figure()\n",
    "ax = fig.gca()\n",
    "ax.scatter(X[:, 0], X[:, 1], c=y, cmap=plt.cm.binary, zorder=2)\n",
    "ax.contour(xx, yy, Z, [0.5], colors='k')\n",
    "plt.show()"
   ]
  },
  {
   "cell_type": "code",
   "execution_count": null,
   "metadata": {
    "collapsed": true
   },
   "outputs": [],
   "source": []
  }
 ],
 "metadata": {
  "anaconda-cloud": {},
  "kernelspec": {
   "display_name": "Python 3",
   "language": "python",
   "name": "python3"
  },
  "language_info": {
   "codemirror_mode": {
    "name": "ipython",
    "version": 3
   },
   "file_extension": ".py",
   "mimetype": "text/x-python",
   "name": "python",
   "nbconvert_exporter": "python",
   "pygments_lexer": "ipython3",
   "version": "3.7.3"
  }
 },
 "nbformat": 4,
 "nbformat_minor": 1
}
